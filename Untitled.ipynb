{
 "cells": [
  {
   "cell_type": "code",
   "execution_count": 45,
   "metadata": {},
   "outputs": [],
   "source": [
    "from requests_html import HTMLSession\n",
    "import re"
   ]
  },
  {
   "cell_type": "code",
   "execution_count": 2,
   "metadata": {},
   "outputs": [],
   "source": [
    "session = HTMLSession()\n"
   ]
  },
  {
   "cell_type": "code",
   "execution_count": 14,
   "metadata": {},
   "outputs": [],
   "source": [
    "r = session.get('http://isach.info/comic.php?comic=than_dong_dat_viet__001_phap_su_goi_buoi')"
   ]
  },
  {
   "cell_type": "code",
   "execution_count": 32,
   "metadata": {},
   "outputs": [],
   "source": [
    "load_id = r.html.find('#load_id', first=True).attrs['value']"
   ]
  },
  {
   "cell_type": "code",
   "execution_count": 28,
   "metadata": {},
   "outputs": [],
   "source": [
    "load_session = r.html.find(\"#load_session\", first=True).attrs['value']"
   ]
  },
  {
   "cell_type": "code",
   "execution_count": 34,
   "metadata": {},
   "outputs": [],
   "source": [
    "payloads = {'load_id': load_id,\n",
    "            'load_session': load_session}\n",
    "headers = {'X-Requested-With':'XMLHttpRequest'}"
   ]
  },
  {
   "cell_type": "code",
   "execution_count": 43,
   "metadata": {},
   "outputs": [],
   "source": [
    "r1 = session.post('http://isach.info/web/common/ajax/load_comic_images_ajax.php',\n",
    "                  data=payloads,\n",
    "                  headers=headers)"
   ]
  },
  {
   "cell_type": "code",
   "execution_count": 54,
   "metadata": {
    "scrolled": false
   },
   "outputs": [
    {
     "name": "stdout",
     "output_type": "stream",
     "text": [
      "http://khosach.info/store/comic/than_dong_dat_viet/than_dong_dat_viet__001_phap_su_goi_buoi/than_dong_dat_viet__001_phap_su_goi_buoi_001.jpg\n"
     ]
    }
   ],
   "source": [
    "if r1.status_code == 200:\n",
    "    pattern = re.compile(r'src=\\'(.+)\\' \\/>')\n",
    "    print((re.findall(pattern, r1.text)[0]))"
   ]
  },
  {
   "cell_type": "code",
   "execution_count": 49,
   "metadata": {},
   "outputs": [],
   "source": [
    "import subprocess"
   ]
  },
  {
   "cell_type": "code",
   "execution_count": 55,
   "metadata": {},
   "outputs": [
    {
     "data": {
      "text/plain": [
       "<subprocess.Popen at 0x7f21f74f8e10>"
      ]
     },
     "execution_count": 55,
     "metadata": {},
     "output_type": "execute_result"
    }
   ],
   "source": [
    "subprocess.Popen(['wget', '-O 1.jpg', 'http://khosach.info/store/comic/than_dong_dat_viet/than_dong_dat_viet__001_phap_su_goi_buoi/than_dong_dat_viet__001_phap_su_goi_buoi_001.jpg'])"
   ]
  },
  {
   "cell_type": "code",
   "execution_count": 56,
   "metadata": {},
   "outputs": [],
   "source": [
    "mkdir \"tập1\""
   ]
  },
  {
   "cell_type": "code",
   "execution_count": 58,
   "metadata": {},
   "outputs": [
    {
     "name": "stdout",
     "output_type": "stream",
     "text": [
      "/home/dosontung007/Kindlemanga/tập1\n"
     ]
    }
   ],
   "source": [
    "cd \"tập1\""
   ]
  },
  {
   "cell_type": "code",
   "execution_count": 59,
   "metadata": {},
   "outputs": [
    {
     "name": "stdout",
     "output_type": "stream",
     "text": [
      "/home/dosontung007/Kindlemanga\n"
     ]
    }
   ],
   "source": [
    "cd .."
   ]
  },
  {
   "cell_type": "code",
   "execution_count": 60,
   "metadata": {},
   "outputs": [],
   "source": [
    "x = 'http://isach.info/comic.php?comic=than_dong_dat_viet__001_phap_su_goi_buoi'"
   ]
  },
  {
   "cell_type": "code",
   "execution_count": 64,
   "metadata": {},
   "outputs": [],
   "source": [
    "import os"
   ]
  },
  {
   "cell_type": "code",
   "execution_count": 68,
   "metadata": {},
   "outputs": [],
   "source": [
    "os.chdir('..')"
   ]
  },
  {
   "cell_type": "code",
   "execution_count": 69,
   "metadata": {},
   "outputs": [
    {
     "data": {
      "text/plain": [
       "'/home/dosontung007'"
      ]
     },
     "execution_count": 69,
     "metadata": {},
     "output_type": "execute_result"
    }
   ],
   "source": [
    "os.getcwd()"
   ]
  },
  {
   "cell_type": "code",
   "execution_count": 70,
   "metadata": {},
   "outputs": [],
   "source": [
    "def isach(link):\n",
    "    session = HTMLSession()\n",
    "    r = session.get(link)\n",
    "\n",
    "    if r.status_code == 200:\n",
    "        post_link = 'http://isach.info/web/common/ajax/load_comic_images_ajax.php'\n",
    "\n",
    "        load_id = r.html.find('#load_id', first=True).attrs['value']\n",
    "        load_session = r.html.find(\"#load_session\", first=True).attrs['value']\n",
    "        payloads = {'load_id': load_id,\n",
    "                    'load_session': load_session}\n",
    "        headers = {'X-Requested-With': 'XMLHttpRequest'}\n",
    "\n",
    "        r1 = session.post(post_link,\n",
    "                          data=payloads,\n",
    "                          headers=headers)\n",
    "\n",
    "        if r1.status_code == 200:\n",
    "            pattern = re.compile(r'src=\\'(.+)\\' \\/>')\n",
    "            return re.findall(pattern, r1.text)"
   ]
  },
  {
   "cell_type": "code",
   "execution_count": 72,
   "metadata": {},
   "outputs": [
    {
     "data": {
      "text/plain": [
       "['http://khosach.info/store/comic/than_dong_dat_viet/than_dong_dat_viet__001_phap_su_goi_buoi/than_dong_dat_viet__001_phap_su_goi_buoi_001.jpg',\n",
       " 'http://khosach.info/store/comic/than_dong_dat_viet/than_dong_dat_viet__001_phap_su_goi_buoi/than_dong_dat_viet__001_phap_su_goi_buoi_002.jpg',\n",
       " 'http://khosach.info/store/comic/than_dong_dat_viet/than_dong_dat_viet__001_phap_su_goi_buoi/than_dong_dat_viet__001_phap_su_goi_buoi_003.jpg',\n",
       " 'http://khosach.info/store/comic/than_dong_dat_viet/than_dong_dat_viet__001_phap_su_goi_buoi/than_dong_dat_viet__001_phap_su_goi_buoi_004.jpg',\n",
       " 'http://khosach.info/store/comic/than_dong_dat_viet/than_dong_dat_viet__001_phap_su_goi_buoi/than_dong_dat_viet__001_phap_su_goi_buoi_005.jpg',\n",
       " 'http://khosach.info/store/comic/than_dong_dat_viet/than_dong_dat_viet__001_phap_su_goi_buoi/than_dong_dat_viet__001_phap_su_goi_buoi_006.jpg',\n",
       " 'http://khosach.info/store/comic/than_dong_dat_viet/than_dong_dat_viet__001_phap_su_goi_buoi/than_dong_dat_viet__001_phap_su_goi_buoi_007.jpg',\n",
       " 'http://khosach.info/store/comic/than_dong_dat_viet/than_dong_dat_viet__001_phap_su_goi_buoi/than_dong_dat_viet__001_phap_su_goi_buoi_008.jpg',\n",
       " 'http://khosach.info/store/comic/than_dong_dat_viet/than_dong_dat_viet__001_phap_su_goi_buoi/than_dong_dat_viet__001_phap_su_goi_buoi_009.jpg',\n",
       " 'http://khosach.info/store/comic/than_dong_dat_viet/than_dong_dat_viet__001_phap_su_goi_buoi/than_dong_dat_viet__001_phap_su_goi_buoi_010.jpg',\n",
       " 'http://khosach.info/store/comic/than_dong_dat_viet/than_dong_dat_viet__001_phap_su_goi_buoi/than_dong_dat_viet__001_phap_su_goi_buoi_011.jpg',\n",
       " 'http://khosach.info/store/comic/than_dong_dat_viet/than_dong_dat_viet__001_phap_su_goi_buoi/than_dong_dat_viet__001_phap_su_goi_buoi_012.jpg',\n",
       " 'http://khosach.info/store/comic/than_dong_dat_viet/than_dong_dat_viet__001_phap_su_goi_buoi/than_dong_dat_viet__001_phap_su_goi_buoi_013.jpg',\n",
       " 'http://khosach.info/store/comic/than_dong_dat_viet/than_dong_dat_viet__001_phap_su_goi_buoi/than_dong_dat_viet__001_phap_su_goi_buoi_014.jpg',\n",
       " 'http://khosach.info/store/comic/than_dong_dat_viet/than_dong_dat_viet__001_phap_su_goi_buoi/than_dong_dat_viet__001_phap_su_goi_buoi_015.jpg',\n",
       " 'http://khosach.info/store/comic/than_dong_dat_viet/than_dong_dat_viet__001_phap_su_goi_buoi/than_dong_dat_viet__001_phap_su_goi_buoi_016.jpg',\n",
       " 'http://khosach.info/store/comic/than_dong_dat_viet/than_dong_dat_viet__001_phap_su_goi_buoi/than_dong_dat_viet__001_phap_su_goi_buoi_017.jpg',\n",
       " 'http://khosach.info/store/comic/than_dong_dat_viet/than_dong_dat_viet__001_phap_su_goi_buoi/than_dong_dat_viet__001_phap_su_goi_buoi_018.jpg',\n",
       " 'http://khosach.info/store/comic/than_dong_dat_viet/than_dong_dat_viet__001_phap_su_goi_buoi/than_dong_dat_viet__001_phap_su_goi_buoi_019.jpg',\n",
       " 'http://khosach.info/store/comic/than_dong_dat_viet/than_dong_dat_viet__001_phap_su_goi_buoi/than_dong_dat_viet__001_phap_su_goi_buoi_020.jpg',\n",
       " 'http://khosach.info/store/comic/than_dong_dat_viet/than_dong_dat_viet__001_phap_su_goi_buoi/than_dong_dat_viet__001_phap_su_goi_buoi_021.jpg',\n",
       " 'http://khosach.info/store/comic/than_dong_dat_viet/than_dong_dat_viet__001_phap_su_goi_buoi/than_dong_dat_viet__001_phap_su_goi_buoi_022.jpg',\n",
       " 'http://khosach.info/store/comic/than_dong_dat_viet/than_dong_dat_viet__001_phap_su_goi_buoi/than_dong_dat_viet__001_phap_su_goi_buoi_023.jpg',\n",
       " 'http://khosach.info/store/comic/than_dong_dat_viet/than_dong_dat_viet__001_phap_su_goi_buoi/than_dong_dat_viet__001_phap_su_goi_buoi_024.jpg',\n",
       " 'http://khosach.info/store/comic/than_dong_dat_viet/than_dong_dat_viet__001_phap_su_goi_buoi/than_dong_dat_viet__001_phap_su_goi_buoi_025.jpg',\n",
       " 'http://khosach.info/store/comic/than_dong_dat_viet/than_dong_dat_viet__001_phap_su_goi_buoi/than_dong_dat_viet__001_phap_su_goi_buoi_026.jpg',\n",
       " 'http://khosach.info/store/comic/than_dong_dat_viet/than_dong_dat_viet__001_phap_su_goi_buoi/than_dong_dat_viet__001_phap_su_goi_buoi_027.jpg',\n",
       " 'http://khosach.info/store/comic/than_dong_dat_viet/than_dong_dat_viet__001_phap_su_goi_buoi/than_dong_dat_viet__001_phap_su_goi_buoi_028.jpg',\n",
       " 'http://khosach.info/store/comic/than_dong_dat_viet/than_dong_dat_viet__001_phap_su_goi_buoi/than_dong_dat_viet__001_phap_su_goi_buoi_029.jpg',\n",
       " 'http://khosach.info/store/comic/than_dong_dat_viet/than_dong_dat_viet__001_phap_su_goi_buoi/than_dong_dat_viet__001_phap_su_goi_buoi_030.jpg',\n",
       " 'http://khosach.info/store/comic/than_dong_dat_viet/than_dong_dat_viet__001_phap_su_goi_buoi/than_dong_dat_viet__001_phap_su_goi_buoi_031.jpg',\n",
       " 'http://khosach.info/store/comic/than_dong_dat_viet/than_dong_dat_viet__001_phap_su_goi_buoi/than_dong_dat_viet__001_phap_su_goi_buoi_032.jpg',\n",
       " 'http://khosach.info/store/comic/than_dong_dat_viet/than_dong_dat_viet__001_phap_su_goi_buoi/than_dong_dat_viet__001_phap_su_goi_buoi_033.jpg',\n",
       " 'http://khosach.info/store/comic/than_dong_dat_viet/than_dong_dat_viet__001_phap_su_goi_buoi/than_dong_dat_viet__001_phap_su_goi_buoi_034.jpg',\n",
       " 'http://khosach.info/store/comic/than_dong_dat_viet/than_dong_dat_viet__001_phap_su_goi_buoi/than_dong_dat_viet__001_phap_su_goi_buoi_035.jpg',\n",
       " 'http://khosach.info/store/comic/than_dong_dat_viet/than_dong_dat_viet__001_phap_su_goi_buoi/than_dong_dat_viet__001_phap_su_goi_buoi_036.jpg',\n",
       " 'http://khosach.info/store/comic/than_dong_dat_viet/than_dong_dat_viet__001_phap_su_goi_buoi/than_dong_dat_viet__001_phap_su_goi_buoi_037.jpg',\n",
       " 'http://khosach.info/store/comic/than_dong_dat_viet/than_dong_dat_viet__001_phap_su_goi_buoi/than_dong_dat_viet__001_phap_su_goi_buoi_038.jpg',\n",
       " 'http://khosach.info/store/comic/than_dong_dat_viet/than_dong_dat_viet__001_phap_su_goi_buoi/than_dong_dat_viet__001_phap_su_goi_buoi_039.jpg',\n",
       " 'http://khosach.info/store/comic/than_dong_dat_viet/than_dong_dat_viet__001_phap_su_goi_buoi/than_dong_dat_viet__001_phap_su_goi_buoi_040.jpg',\n",
       " 'http://khosach.info/store/comic/than_dong_dat_viet/than_dong_dat_viet__001_phap_su_goi_buoi/than_dong_dat_viet__001_phap_su_goi_buoi_041.jpg',\n",
       " 'http://khosach.info/store/comic/than_dong_dat_viet/than_dong_dat_viet__001_phap_su_goi_buoi/than_dong_dat_viet__001_phap_su_goi_buoi_042.jpg',\n",
       " 'http://khosach.info/store/comic/than_dong_dat_viet/than_dong_dat_viet__001_phap_su_goi_buoi/than_dong_dat_viet__001_phap_su_goi_buoi_043.jpg',\n",
       " 'http://khosach.info/store/comic/than_dong_dat_viet/than_dong_dat_viet__001_phap_su_goi_buoi/than_dong_dat_viet__001_phap_su_goi_buoi_044.jpg',\n",
       " 'http://khosach.info/store/comic/than_dong_dat_viet/than_dong_dat_viet__001_phap_su_goi_buoi/than_dong_dat_viet__001_phap_su_goi_buoi_045.jpg',\n",
       " 'http://khosach.info/store/comic/than_dong_dat_viet/than_dong_dat_viet__001_phap_su_goi_buoi/than_dong_dat_viet__001_phap_su_goi_buoi_046.jpg',\n",
       " 'http://khosach.info/store/comic/than_dong_dat_viet/than_dong_dat_viet__001_phap_su_goi_buoi/than_dong_dat_viet__001_phap_su_goi_buoi_047.jpg',\n",
       " 'http://khosach.info/store/comic/than_dong_dat_viet/than_dong_dat_viet__001_phap_su_goi_buoi/than_dong_dat_viet__001_phap_su_goi_buoi_048.jpg',\n",
       " 'http://khosach.info/store/comic/than_dong_dat_viet/than_dong_dat_viet__001_phap_su_goi_buoi/than_dong_dat_viet__001_phap_su_goi_buoi_049.jpg',\n",
       " 'http://khosach.info/store/comic/than_dong_dat_viet/than_dong_dat_viet__001_phap_su_goi_buoi/than_dong_dat_viet__001_phap_su_goi_buoi_050.jpg',\n",
       " 'http://khosach.info/store/comic/than_dong_dat_viet/than_dong_dat_viet__001_phap_su_goi_buoi/than_dong_dat_viet__001_phap_su_goi_buoi_051.jpg',\n",
       " 'http://khosach.info/store/comic/than_dong_dat_viet/than_dong_dat_viet__001_phap_su_goi_buoi/than_dong_dat_viet__001_phap_su_goi_buoi_052.jpg',\n",
       " 'http://khosach.info/store/comic/than_dong_dat_viet/than_dong_dat_viet__001_phap_su_goi_buoi/than_dong_dat_viet__001_phap_su_goi_buoi_053.jpg',\n",
       " 'http://khosach.info/store/comic/than_dong_dat_viet/than_dong_dat_viet__001_phap_su_goi_buoi/than_dong_dat_viet__001_phap_su_goi_buoi_054.jpg',\n",
       " 'http://khosach.info/store/comic/than_dong_dat_viet/than_dong_dat_viet__001_phap_su_goi_buoi/than_dong_dat_viet__001_phap_su_goi_buoi_055.jpg',\n",
       " 'http://khosach.info/store/comic/than_dong_dat_viet/than_dong_dat_viet__001_phap_su_goi_buoi/than_dong_dat_viet__001_phap_su_goi_buoi_056.jpg',\n",
       " 'http://khosach.info/store/comic/than_dong_dat_viet/than_dong_dat_viet__001_phap_su_goi_buoi/than_dong_dat_viet__001_phap_su_goi_buoi_057.jpg',\n",
       " 'http://khosach.info/store/comic/than_dong_dat_viet/than_dong_dat_viet__001_phap_su_goi_buoi/than_dong_dat_viet__001_phap_su_goi_buoi_058.jpg',\n",
       " 'http://khosach.info/store/comic/than_dong_dat_viet/than_dong_dat_viet__001_phap_su_goi_buoi/than_dong_dat_viet__001_phap_su_goi_buoi_059.jpg',\n",
       " 'http://khosach.info/store/comic/than_dong_dat_viet/than_dong_dat_viet__001_phap_su_goi_buoi/than_dong_dat_viet__001_phap_su_goi_buoi_060.jpg',\n",
       " 'http://khosach.info/store/comic/than_dong_dat_viet/than_dong_dat_viet__001_phap_su_goi_buoi/than_dong_dat_viet__001_phap_su_goi_buoi_061.jpg',\n",
       " 'http://khosach.info/store/comic/than_dong_dat_viet/than_dong_dat_viet__001_phap_su_goi_buoi/than_dong_dat_viet__001_phap_su_goi_buoi_062.jpg',\n",
       " 'http://khosach.info/store/comic/than_dong_dat_viet/than_dong_dat_viet__001_phap_su_goi_buoi/than_dong_dat_viet__001_phap_su_goi_buoi_063.jpg',\n",
       " 'http://khosach.info/store/comic/than_dong_dat_viet/than_dong_dat_viet__001_phap_su_goi_buoi/than_dong_dat_viet__001_phap_su_goi_buoi_064.jpg',\n",
       " 'http://khosach.info/store/comic/than_dong_dat_viet/than_dong_dat_viet__001_phap_su_goi_buoi/than_dong_dat_viet__001_phap_su_goi_buoi_065.jpg',\n",
       " 'http://khosach.info/store/comic/than_dong_dat_viet/than_dong_dat_viet__001_phap_su_goi_buoi/than_dong_dat_viet__001_phap_su_goi_buoi_066.jpg',\n",
       " 'http://khosach.info/store/comic/than_dong_dat_viet/than_dong_dat_viet__001_phap_su_goi_buoi/than_dong_dat_viet__001_phap_su_goi_buoi_067.jpg',\n",
       " 'http://khosach.info/store/comic/than_dong_dat_viet/than_dong_dat_viet__001_phap_su_goi_buoi/than_dong_dat_viet__001_phap_su_goi_buoi_068.jpg',\n",
       " 'http://khosach.info/store/comic/than_dong_dat_viet/than_dong_dat_viet__001_phap_su_goi_buoi/than_dong_dat_viet__001_phap_su_goi_buoi_069.jpg',\n",
       " 'http://khosach.info/store/comic/than_dong_dat_viet/than_dong_dat_viet__001_phap_su_goi_buoi/than_dong_dat_viet__001_phap_su_goi_buoi_070.jpg',\n",
       " 'http://khosach.info/store/comic/than_dong_dat_viet/than_dong_dat_viet__001_phap_su_goi_buoi/than_dong_dat_viet__001_phap_su_goi_buoi_071.jpg',\n",
       " 'http://khosach.info/store/comic/than_dong_dat_viet/than_dong_dat_viet__001_phap_su_goi_buoi/than_dong_dat_viet__001_phap_su_goi_buoi_072.jpg',\n",
       " 'http://khosach.info/store/comic/than_dong_dat_viet/than_dong_dat_viet__001_phap_su_goi_buoi/than_dong_dat_viet__001_phap_su_goi_buoi_073.jpg']"
      ]
     },
     "execution_count": 72,
     "metadata": {},
     "output_type": "execute_result"
    }
   ],
   "source": [
    "isach('http://isach.info/comic.php?comic=than_dong_dat_viet__001_phap_su_goi_buoi')"
   ]
  },
  {
   "cell_type": "code",
   "execution_count": 74,
   "metadata": {},
   "outputs": [
    {
     "ename": "FileNotFoundError",
     "evalue": "[Errno 2] No such file or directory: 'link.txt'",
     "output_type": "error",
     "traceback": [
      "\u001b[0;31m---------------------------------------------------------------------------\u001b[0m",
      "\u001b[0;31mFileNotFoundError\u001b[0m                         Traceback (most recent call last)",
      "\u001b[0;32m<ipython-input-74-0765e6b17a96>\u001b[0m in \u001b[0;36m<module>\u001b[0;34m()\u001b[0m\n\u001b[0;32m----> 1\u001b[0;31m \u001b[0;32mwith\u001b[0m \u001b[0mopen\u001b[0m\u001b[0;34m(\u001b[0m\u001b[0;34m'link.txt'\u001b[0m\u001b[0;34m)\u001b[0m \u001b[0;32mas\u001b[0m \u001b[0mf\u001b[0m\u001b[0;34m:\u001b[0m\u001b[0;34m\u001b[0m\u001b[0m\n\u001b[0m\u001b[1;32m      2\u001b[0m     \u001b[0mlst_links\u001b[0m \u001b[0;34m=\u001b[0m \u001b[0mf\u001b[0m\u001b[0;34m.\u001b[0m\u001b[0mread\u001b[0m\u001b[0;34m(\u001b[0m\u001b[0;34m)\u001b[0m\u001b[0;34m.\u001b[0m\u001b[0msplitlines\u001b[0m\u001b[0;34m(\u001b[0m\u001b[0;34m)\u001b[0m\u001b[0;34m\u001b[0m\u001b[0m\n",
      "\u001b[0;31mFileNotFoundError\u001b[0m: [Errno 2] No such file or directory: 'link.txt'"
     ]
    }
   ],
   "source": [
    "with open('link.txt') as f:\n",
    "    lst_links = f.read().splitlines()"
   ]
  },
  {
   "cell_type": "code",
   "execution_count": 1,
   "metadata": {},
   "outputs": [],
   "source": [
    "import os"
   ]
  },
  {
   "cell_type": "code",
   "execution_count": 6,
   "metadata": {},
   "outputs": [
    {
     "ename": "FileNotFoundError",
     "evalue": "[Errno 2] No such file or directory: 'wget-log*'",
     "output_type": "error",
     "traceback": [
      "\u001b[0;31m---------------------------------------------------------------------------\u001b[0m",
      "\u001b[0;31mFileNotFoundError\u001b[0m                         Traceback (most recent call last)",
      "\u001b[0;32m<ipython-input-6-06655818bae1>\u001b[0m in \u001b[0;36m<module>\u001b[0;34m()\u001b[0m\n\u001b[0;32m----> 1\u001b[0;31m \u001b[0mos\u001b[0m\u001b[0;34m.\u001b[0m\u001b[0mremove\u001b[0m\u001b[0;34m(\u001b[0m\u001b[0;34m'wget-log*'\u001b[0m\u001b[0;34m)\u001b[0m\u001b[0;34m\u001b[0m\u001b[0m\n\u001b[0m",
      "\u001b[0;31mFileNotFoundError\u001b[0m: [Errno 2] No such file or directory: 'wget-log*'"
     ]
    }
   ],
   "source": [
    "os.remove('wget-log*')"
   ]
  },
  {
   "cell_type": "code",
   "execution_count": 4,
   "metadata": {},
   "outputs": [
    {
     "name": "stdout",
     "output_type": "stream",
     "text": [
      "/home/dosontung007/Kindlemanga/than_dong_dat_viet__001_phap_su_goi_buoi\n"
     ]
    }
   ],
   "source": [
    "cd than_dong_dat_viet__001_phap_su_goi_buoi"
   ]
  },
  {
   "cell_type": "code",
   "execution_count": null,
   "metadata": {},
   "outputs": [],
   "source": []
  }
 ],
 "metadata": {
  "kernelspec": {
   "display_name": "Python 3",
   "language": "python",
   "name": "python3"
  },
  "language_info": {
   "codemirror_mode": {
    "name": "ipython",
    "version": 3
   },
   "file_extension": ".py",
   "mimetype": "text/x-python",
   "name": "python",
   "nbconvert_exporter": "python",
   "pygments_lexer": "ipython3",
   "version": "3.6.3"
  }
 },
 "nbformat": 4,
 "nbformat_minor": 2
}
